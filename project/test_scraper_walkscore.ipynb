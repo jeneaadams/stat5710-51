{
 "cells": [
  {
   "cell_type": "code",
   "execution_count": null,
   "id": "c61f84ea",
   "metadata": {},
   "outputs": [],
   "source": [
    "import requests\n",
    "from bs4 import BeautifulSoup\n",
    "import pandas as pd"
   ]
  },
  {
   "cell_type": "code",
   "execution_count": null,
   "id": "e73ac3d1",
   "metadata": {},
   "outputs": [],
   "source": [
    "headers = {'user-agent':'Mozilla/5.0 (Windows NT 10.0; Win64; x64) AppleWebKit/537.36 (KHTML, like Gecko) Chrome/91.0.4472.114 Safari/537.36'}\n",
    "    \n",
    "url = \"https://www.walkscore.com/score/loc/lat=40/lng=-75.1\"\n",
    "    \n",
    "# in the case there's no url look up on google scholar\n",
    "if str(url) == 'nan':\n",
    "    query = test_references.iloc[i,4]\n",
    "    url = 'https://scholar.google.com/scholar?hl=en&as_sdt=0%2C5&q=' + query.replace(' ', '+') + '&btnG=&oq=ob'\n",
    "        \n",
    "print(url)\n",
    "    \n",
    "response=requests.get(url,headers=headers)\n",
    "doc = BeautifulSoup(response.text,'html.parser')\n",
    "\n",
    "\n",
    "scores = doc.find_all('img')\n",
    "\n",
    "def extract_score(current_string, score_type):\n",
    "    # initializing substrings\n",
    "    sub1 = \"=\"\n",
    "    sub2 = score_type\n",
    "\n",
    "    # getting index of substrings\n",
    "    idx1 = current_string.find(sub1)\n",
    "    idx2 = current_string.find(sub2)\n",
    "\n",
    "    # length of substring 1 is added to\n",
    "    # get string from next character\n",
    "    res = current_string[idx1 + len(sub1) + 1: idx2]\n",
    "    \n",
    "    print(res)\n",
    "\n",
    "extract_score(str(scores[3]), \"Walk\")\n",
    "extract_score(str(scores[4]), \"Transit\")\n",
    "extract_score(str(scores[5]), \"Bike\")"
   ]
  }
 ],
 "metadata": {
  "kernelspec": {
   "display_name": "Python 3 (ipykernel)",
   "language": "python",
   "name": "python3"
  },
  "language_info": {
   "codemirror_mode": {
    "name": "ipython",
    "version": 3
   },
   "file_extension": ".py",
   "mimetype": "text/x-python",
   "name": "python",
   "nbconvert_exporter": "python",
   "pygments_lexer": "ipython3",
   "version": "3.10.9"
  }
 },
 "nbformat": 4,
 "nbformat_minor": 5
}
